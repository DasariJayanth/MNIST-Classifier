{
 "cells": [
  {
   "cell_type": "markdown",
   "metadata": {
    "colab_type": "text",
    "id": "tOoyQ70H00_s"
   },
   "source": [
    "## MNIST Classifier for Digits\n",
    "MNIST is a dataset which has items of handwriting -- the digits 0 through 9.\n",
    "\n",
    "In this notebook we are training an MNIST classifier using two neural networks.\n",
    "1. Shallow Neural Network(Normal NN).\n",
    "2. Convolutional Neural Network(CNN).\n",
    "\n",
    "MNIST dataset is included in tensorflow keras datasets, we are directly using that dataset here.\n",
    "\n",
    "\n",
    "In normal NN, we are training a model that trains to 99% accuracy or above, and does it without a fixed number of epochs."
   ]
  },
  {
   "cell_type": "code",
   "execution_count": 1,
   "metadata": {},
   "outputs": [],
   "source": [
    "import tensorflow as tf\n",
    "from os import path, getcwd, chdir\n",
    "\n",
    "path = r\"C:\\Users\\ASUS\\Downloads\\MNIST\\mnist.npz\""
   ]
  },
  {
   "cell_type": "code",
   "execution_count": 2,
   "metadata": {},
   "outputs": [
    {
     "data": {
      "text/plain": [
       "'C:\\\\Users\\\\ASUS\\\\Downloads\\\\MNIST\\\\mnist.npz'"
      ]
     },
     "execution_count": 2,
     "metadata": {},
     "output_type": "execute_result"
    }
   ],
   "source": [
    "path"
   ]
  },
  {
   "cell_type": "code",
   "execution_count": 3,
   "metadata": {},
   "outputs": [],
   "source": [
    "config = tf.compat.v1.ConfigProto()\n",
    "config.gpu_options.allow_growth = True\n",
    "sess = tf.compat.v1.Session(config=config)"
   ]
  },
  {
   "cell_type": "code",
   "execution_count": 9,
   "metadata": {},
   "outputs": [
    {
     "data": {
      "text/plain": [
       "<matplotlib.image.AxesImage at 0x16494bec5b0>"
      ]
     },
     "execution_count": 9,
     "metadata": {},
     "output_type": "execute_result"
    },
    {
     "data": {
      "image/png": "[encoded data removed]",
      "text/plain": [
       "<Figure size 432x288 with 1 Axes>"
      ]
     },
     "metadata": {
      "needs_background": "light"
     },
     "output_type": "display_data"
    }
   ],
   "source": [
    "import matplotlib.pyplot as plt\n",
    "mnist = tf.keras.datasets.mnist\n",
    "(training_images, training_labels), (test_images, test_labels) = mnist.load_data(path=path)\n",
    "X = training_images\n",
    "X=X.reshape(-1,28,28,1)\n",
    "plt.imshow(X[50,:,:,0])\n"
   ]
  },
  {
   "cell_type": "markdown",
   "metadata": {},
   "source": [
    "# Using Shallow Neural Network(NN)"
   ]
  },
  {
   "cell_type": "code",
   "execution_count": 4,
   "metadata": {
    "colab": {},
    "colab_type": "code",
    "id": "9rvXQGAA0ssC"
   },
   "outputs": [],
   "source": [
    "def train_mnist():\n",
    "    \n",
    "    class myCallback(tf.keras.callbacks.Callback):\n",
    "        def on_epoch_end(self, epoch, logs={}):\n",
    "            if(logs.get('accuracy') > 0.99):\n",
    "                print(\"\\nReached 99% accuracy so cancelling training!\")\n",
    "                self.model.stop_training = True\n",
    "    callbacks = myCallback()            \n",
    "    \n",
    "\n",
    "    mnist = tf.keras.datasets.mnist\n",
    "\n",
    "    (x_train, y_train),(x_test, y_test) = mnist.load_data(path=path)\n",
    "    \n",
    "    x_train = x_train/255\n",
    "    x_test  = x_test/255\n",
    "    \n",
    "    model = tf.keras.models.Sequential([\n",
    "        tf.keras.layers.Flatten(),\n",
    "        tf.keras.layers.Dense(512,activation=tf.nn.relu),\n",
    "        tf.keras.layers.Dense(10,activation=tf.nn.softmax)\n",
    "        \n",
    "    ])\n",
    "\n",
    "    model.compile(optimizer='adam',\n",
    "                  loss='sparse_categorical_crossentropy',\n",
    "                  metrics=['accuracy'])\n",
    "    \n",
    "    # model fitting,training\n",
    "    history = model.fit(x_train, y_train, epochs=10, callbacks=[callbacks])\n",
    "    \n",
    "    # Evaluate on the test set\n",
    "    test_loss, test_acc = model.evaluate(x_test, y_test)\n",
    "    print(test_acc)\n",
    "    \n",
    "    return history.epoch, history.history['accuracy'][-1]"
   ]
  },
  {
   "cell_type": "code",
   "execution_count": 5,
   "metadata": {
    "colab": {},
    "colab_type": "code",
    "id": "9rvXQGAA0ssC"
   },
   "outputs": [
    {
     "name": "stdout",
     "output_type": "stream",
     "text": [
      "Epoch 1/10\n",
      "1875/1875 [==============================] - 5s 2ms/step - loss: 0.2003 - accuracy: 0.9406\n",
      "Epoch 2/10\n",
      "1875/1875 [==============================] - 5s 2ms/step - loss: 0.0807 - accuracy: 0.9749\n",
      "Epoch 3/10\n",
      "1875/1875 [==============================] - 5s 2ms/step - loss: 0.0524 - accuracy: 0.9836\n",
      "Epoch 4/10\n",
      "1875/1875 [==============================] - 4s 2ms/step - loss: 0.0370 - accuracy: 0.9879\n",
      "Epoch 5/10\n",
      "1870/1875 [============================>.] - ETA: 0s - loss: 0.0279 - accuracy: 0.9909\n",
      "Reached 99% accuracy so cancelling training!\n",
      "1875/1875 [==============================] - 4s 2ms/step - loss: 0.0278 - accuracy: 0.9909\n",
      "313/313 [==============================] - 1s 1ms/step - loss: 0.0841 - accuracy: 0.9765\n",
      "0.9764999747276306\n"
     ]
    },
    {
     "data": {
      "text/plain": [
       "([0, 1, 2, 3, 4], 0.9908666610717773)"
      ]
     },
     "execution_count": 5,
     "metadata": {},
     "output_type": "execute_result"
    }
   ],
   "source": [
    "train_mnist()"
   ]
  },
  {
   "cell_type": "markdown",
   "metadata": {},
   "source": [
    "## Using Convolutional Neural Network(CNN)\n",
    "\n",
    "We can improve the MNIST accuracy using CNN easily rather than using DNN.\n",
    "\n",
    "In CNN, we are training a model that trains to 99.8% accuracy or above with simple CNN architecture."
   ]
  },
  {
   "cell_type": "code",
   "execution_count": 6,
   "metadata": {},
   "outputs": [],
   "source": [
    "def train_mnist_conv():\n",
    "\n",
    "    class myCallback(tf.keras.callbacks.Callback):\n",
    "        def on_epoch_end(self, epoch, logs={}):\n",
    "            if(logs.get('accuracy')>0.998):\n",
    "                print(\"\\nReached 99.8% accuracy so cancelling training!\")\n",
    "                self.model.stop_training = True\n",
    "                \n",
    "    # load the dataset\n",
    "    \n",
    "    mnist = tf.keras.datasets.mnist\n",
    "    (training_images, training_labels), (test_images, test_labels) = mnist.load_data(path=path)\n",
    "    \n",
    "    # Normalizing\n",
    "    \n",
    "    # If u want to train over subset of the total training data\n",
    "    # training_images = training_images[:3000]\n",
    "    # training_labels = training_labels[:3000]\n",
    "    training_images=training_images.reshape(-1, 28, 28, 1)\n",
    "    training_images=training_images / 255.0\n",
    "    \n",
    "    test_images = test_images.reshape(10000, 28, 28, 1)\n",
    "    test_images = test_images / 255.0\n",
    "    \n",
    "    callbacks = myCallback()\n",
    "    \n",
    "    \n",
    "    # defining the conv model\n",
    "    model = tf.keras.models.Sequential([\n",
    "        tf.keras.layers.Conv2D(64, (3,3), activation='relu', input_shape=(28, 28, 1)),\n",
    "        tf.keras.layers.MaxPooling2D(2, 2),\n",
    "        tf.keras.layers.Conv2D(128, (3,3), activation='relu', input_shape=(28, 28, 1)),\n",
    "        tf.keras.layers.MaxPooling2D(2, 2),\n",
    "        tf.keras.layers.Flatten(),\n",
    "        tf.keras.layers.Dense(128, activation='relu'),\n",
    "        tf.keras.layers.Dense(10, activation='softmax')\n",
    "    ])\n",
    "\n",
    "    model.compile(optimizer='adam', loss='sparse_categorical_crossentropy', metrics=['accuracy'])\n",
    "    \n",
    "    # model fitting, training the model\n",
    "    history = model.fit(training_images, training_labels, epochs=20, callbacks=[callbacks])\n",
    "    \n",
    "    # Evaluate on the test set\n",
    "    test_loss, test_acc = model.evaluate(test_images, test_labels)\n",
    "    print(test_acc)\n",
    "\n",
    "    return history.epoch, history.history['accuracy'][-1]\n",
    "\n"
   ]
  },
  {
   "cell_type": "code",
   "execution_count": 7,
   "metadata": {},
   "outputs": [
    {
     "name": "stdout",
     "output_type": "stream",
     "text": [
      "Epoch 1/20\n",
      "1875/1875 [==============================] - 58s 31ms/step - loss: 0.1128 - accuracy: 0.9653\n",
      "Epoch 2/20\n",
      "1875/1875 [==============================] - 57s 30ms/step - loss: 0.0390 - accuracy: 0.9880\n",
      "Epoch 3/20\n",
      "1875/1875 [==============================] - 57s 30ms/step - loss: 0.0268 - accuracy: 0.9916\n",
      "Epoch 4/20\n",
      "1875/1875 [==============================] - 53s 28ms/step - loss: 0.0189 - accuracy: 0.9938\n",
      "Epoch 5/20\n",
      "1875/1875 [==============================] - 52s 27ms/step - loss: 0.0127 - accuracy: 0.9957\n",
      "Epoch 6/20\n",
      "1875/1875 [==============================] - 55s 30ms/step - loss: 0.0108 - accuracy: 0.9965\n",
      "Epoch 7/20\n",
      "1875/1875 [==============================] - 51s 27ms/step - loss: 0.0091 - accuracy: 0.9968\n",
      "Epoch 8/20\n",
      "1875/1875 [==============================] - 50s 27ms/step - loss: 0.0077 - accuracy: 0.9974\n",
      "Epoch 9/20\n",
      "1875/1875 [==============================] - 51s 27ms/step - loss: 0.0065 - accuracy: 0.9979\n",
      "Epoch 10/20\n",
      "1874/1875 [============================>.] - ETA: 0s - loss: 0.0056 - accuracy: 0.9983\n",
      "Reached 99.8% accuracy so cancelling training!\n",
      "1875/1875 [==============================] - 50s 27ms/step - loss: 0.0055 - accuracy: 0.9983\n",
      "313/313 [==============================] - 2s 7ms/step - loss: 0.0332 - accuracy: 0.9919\n",
      "0.9919000267982483\n"
     ]
    }
   ],
   "source": [
    "_, _ = train_mnist_conv()"
   ]
  },
  {
   "cell_type": "markdown",
   "metadata": {},
   "source": [
    "We can observe the outputs and the differences in two models training and test accuracy in outputs sections of the models. "
   ]
  },
  {
   "cell_type": "code",
   "execution_count": null,
   "metadata": {},
   "outputs": [],
   "source": []
  }
 ],
 "metadata": {
  "coursera": {
   "course_slug": "introduction-tensorflow",
   "graded_item_id": "d6dew",
   "launcher_item_id": "FExZ4"
  },
  "kernelspec": {
   "display_name": "Python 3 (ipykernel)",
   "language": "python",
   "name": "python3"
  },
  "language_info": {
   "codemirror_mode": {
    "name": "ipython",
    "version": 3
   },
   "file_extension": ".py",
   "mimetype": "text/x-python",
   "name": "python",
   "nbconvert_exporter": "python",
   "pygments_lexer": "ipython3",
   "version": "3.9.6"
  }
 },
 "nbformat": 4,
 "nbformat_minor": 1
}
