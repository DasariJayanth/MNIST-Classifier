{
  "nbformat": 4,
  "nbformat_minor": 0,
  "metadata": {
    "colab": {
      "name": "MNIST_Fashion.ipynb",
      "provenance": []
    },
    "kernelspec": {
      "name": "python3",
      "display_name": "Python 3"
    },
    "language_info": {
      "name": "python"
    }
  },
  "cells": [
    {
      "cell_type": "markdown",
      "source": [
        "## MNIST Classifier for Fashion Dataset\n",
        "\n",
        "Dataset is directly available in tensorflow keras datsets.\n",
        "\n",
        "Training the model using Shallow Neural Network(NN) and Convolutional Neural Network(CNN) to do classificaiton using Fashion MNIST, a data set containing items of clothing."
      ],
      "metadata": {
        "id": "-t1RLYwNwbEr"
      }
    },
    {
      "cell_type": "code",
      "source": [
        "import tensorflow as tf\n",
        "\n",
        "# Load the Fashion MNIST dataset\n",
        "fmnist = tf.keras.datasets.fashion_mnist\n",
        "(training_images, training_labels), (test_images, test_labels) = fmnist.load_data()\n",
        "\n",
        "# Normalize the pixel values\n",
        "training_images = training_images / 255.0\n",
        "test_images = test_images / 255.0"
      ],
      "metadata": {
        "colab": {
          "base_uri": "https://localhost:8080/"
        },
        "id": "DITQD10ewYH-",
        "outputId": "3ae8d10a-981c-4537-b14c-041cef5c7e12"
      },
      "execution_count": 1,
      "outputs": [
        {
          "output_type": "stream",
          "name": "stdout",
          "text": [
            "Downloading data from https://storage.googleapis.com/tensorflow/tf-keras-datasets/train-labels-idx1-ubyte.gz\n",
            "32768/29515 [=================================] - 0s 0us/step\n",
            "40960/29515 [=========================================] - 0s 0us/step\n",
            "Downloading data from https://storage.googleapis.com/tensorflow/tf-keras-datasets/train-images-idx3-ubyte.gz\n",
            "26427392/26421880 [==============================] - 0s 0us/step\n",
            "26435584/26421880 [==============================] - 0s 0us/step\n",
            "Downloading data from https://storage.googleapis.com/tensorflow/tf-keras-datasets/t10k-labels-idx1-ubyte.gz\n",
            "16384/5148 [===============================================================================================] - 0s 0us/step\n",
            "Downloading data from https://storage.googleapis.com/tensorflow/tf-keras-datasets/t10k-images-idx3-ubyte.gz\n",
            "4423680/4422102 [==============================] - 0s 0us/step\n",
            "4431872/4422102 [==============================] - 0s 0us/step\n"
          ]
        }
      ]
    },
    {
      "cell_type": "code",
      "source": [
        "import matplotlib.pyplot as plt\n",
        "plt.imshow(training_images[40])\n",
        "print(training_labels[40])\n",
        "print(training_images[40])"
      ],
      "metadata": {
        "colab": {
          "base_uri": "https://localhost:8080/",
          "height": 1000
        },
        "id": "MKeC53wDyimD",
        "outputId": "caaedcc4-f6b2-4bcb-b9ef-7f70fbef9d7f"
      },
      "execution_count": 2,
      "outputs": [
        {
          "output_type": "stream",
          "name": "stdout",
          "text": [
            "6\n",
            "[[0.         0.         0.         0.         0.         0.\n",
            "  0.         0.         0.00392157 0.         0.         0.14509804\n",
            "  0.75294118 0.69411765 0.67058824 0.78039216 0.10588235 0.\n",
            "  0.         0.         0.00392157 0.01176471 0.         0.\n",
            "  0.         0.         0.         0.        ]\n",
            " [0.         0.         0.         0.         0.         0.\n",
            "  0.03529412 0.         0.         0.         0.         0.52941176\n",
            "  0.90196078 0.63529412 0.60784314 0.99215686 0.64313725 0.05490196\n",
            "  0.         0.         0.         0.         0.01176471 0.\n",
            "  0.         0.         0.         0.        ]\n",
            " [0.         0.         0.         0.         0.00392157 0.\n",
            "  0.         0.         0.25098039 0.59607843 0.90980392 0.81176471\n",
            "  0.76470588 0.60784314 0.61568627 0.78823529 0.89019608 0.87843137\n",
            "  0.86666667 0.6745098  0.36862745 0.01568627 0.         0.\n",
            "  0.         0.         0.         0.        ]\n",
            " [0.         0.         0.         0.         0.         0.\n",
            "  0.43921569 0.70196078 0.80392157 0.78039216 0.75294118 0.77254902\n",
            "  0.84705882 0.76078431 0.75294118 0.8627451  0.82352941 0.75294118\n",
            "  0.74901961 0.79607843 0.81176471 0.81568627 0.24313725 0.\n",
            "  0.00392157 0.         0.         0.        ]\n",
            " [0.         0.         0.         0.         0.         0.29411765\n",
            "  0.81568627 0.72941176 0.69803922 0.7254902  0.6745098  0.77254902\n",
            "  0.83529412 0.76470588 0.78431373 0.81568627 0.78039216 0.7372549\n",
            "  0.73333333 0.70980392 0.70588235 0.8        0.75294118 0.\n",
            "  0.         0.         0.         0.        ]\n",
            " [0.         0.         0.         0.         0.         0.70588235\n",
            "  0.74509804 0.70196078 0.7254902  0.71372549 0.72156863 0.69803922\n",
            "  0.65098039 0.75686275 0.7254902  0.65490196 0.73333333 0.72941176\n",
            "  0.72156863 0.72156863 0.75294118 0.75294118 0.8745098  0.10980392\n",
            "  0.         0.         0.         0.        ]\n",
            " [0.         0.         0.         0.         0.         0.80392157\n",
            "  0.74509804 0.71372549 0.71372549 0.7254902  0.71372549 0.7254902\n",
            "  0.70980392 0.71372549 0.70588235 0.70588235 0.7254902  0.72941176\n",
            "  0.71372549 0.72156863 0.78823529 0.76470588 0.85882353 0.28235294\n",
            "  0.         0.         0.         0.        ]\n",
            " [0.         0.         0.         0.         0.         0.82352941\n",
            "  0.72941176 0.76078431 0.70980392 0.70980392 0.71372549 0.69803922\n",
            "  0.70588235 0.72156863 0.71372549 0.69411765 0.70196078 0.7254902\n",
            "  0.72156863 0.76078431 0.82745098 0.7372549  0.85490196 0.37254902\n",
            "  0.         0.         0.         0.        ]\n",
            " [0.         0.         0.         0.         0.         0.85098039\n",
            "  0.70196078 0.75686275 0.75686275 0.68627451 0.68627451 0.68235294\n",
            "  0.69803922 0.71372549 0.72156863 0.68235294 0.69411765 0.69411765\n",
            "  0.72941176 0.80784314 0.81568627 0.7254902  0.85882353 0.41568627\n",
            "  0.         0.         0.         0.        ]\n",
            " [0.         0.         0.         0.         0.05490196 0.85098039\n",
            "  0.68627451 0.72941176 0.80784314 0.72156863 0.67843137 0.68235294\n",
            "  0.69411765 0.70196078 0.70588235 0.67843137 0.68235294 0.6745098\n",
            "  0.76078431 0.82352941 0.79607843 0.72941176 0.83921569 0.46666667\n",
            "  0.         0.         0.         0.        ]\n",
            " [0.         0.         0.         0.         0.1372549  0.8627451\n",
            "  0.66666667 0.76078431 0.83529412 0.72941176 0.70980392 0.68235294\n",
            "  0.69411765 0.68627451 0.70980392 0.69411765 0.69803922 0.70196078\n",
            "  0.78039216 0.83529412 0.85098039 0.69803922 0.83921569 0.50588235\n",
            "  0.         0.         0.         0.        ]\n",
            " [0.         0.         0.         0.         0.19215686 0.8627451\n",
            "  0.67058824 0.74901961 0.77647059 0.77647059 0.70196078 0.69411765\n",
            "  0.68627451 0.67843137 0.69803922 0.68627451 0.68627451 0.71372549\n",
            "  0.75294118 0.82352941 0.72941176 0.70588235 0.81568627 0.58431373\n",
            "  0.         0.         0.         0.        ]\n",
            " [0.         0.         0.         0.         0.2745098  0.8627451\n",
            "  0.67843137 0.68235294 0.40392157 0.88235294 0.68627451 0.70196078\n",
            "  0.68627451 0.68235294 0.70588235 0.69411765 0.70196078 0.70196078\n",
            "  0.8        0.76470588 0.43921569 0.81176471 0.77647059 0.7254902\n",
            "  0.         0.         0.         0.        ]\n",
            " [0.         0.         0.         0.         0.30196078 0.83921569\n",
            "  0.70196078 0.73333333 0.16078431 0.94117647 0.70196078 0.70196078\n",
            "  0.69411765 0.68235294 0.70588235 0.69803922 0.70588235 0.70588235\n",
            "  0.84705882 0.68235294 0.23921569 0.89803922 0.76078431 0.80392157\n",
            "  0.         0.         0.         0.        ]\n",
            " [0.         0.         0.         0.         0.36862745 0.74509804\n",
            "  0.72156863 0.77254902 0.         0.87843137 0.72941176 0.70196078\n",
            "  0.69411765 0.68627451 0.70196078 0.70196078 0.72156863 0.69411765\n",
            "  0.8745098  0.6        0.12941176 0.93333333 0.7372549  0.7372549\n",
            "  0.         0.         0.         0.        ]\n",
            " [0.         0.         0.         0.         0.43137255 0.72941176\n",
            "  0.76078431 0.70980392 0.         0.85098039 0.75294118 0.70196078\n",
            "  0.70196078 0.69411765 0.69803922 0.69411765 0.72156863 0.69803922\n",
            "  0.89803922 0.56862745 0.         0.94117647 0.72941176 0.77254902\n",
            "  0.         0.         0.         0.        ]\n",
            " [0.         0.         0.         0.         0.44705882 0.72156863\n",
            "  0.77254902 0.64705882 0.         0.81568627 0.77647059 0.69803922\n",
            "  0.70588235 0.70980392 0.72156863 0.69803922 0.72156863 0.69803922\n",
            "  0.88627451 0.61568627 0.         0.95686275 0.72156863 0.78823529\n",
            "  0.01568627 0.         0.         0.        ]\n",
            " [0.         0.         0.         0.         0.40392157 0.71372549\n",
            "  0.76470588 0.52941176 0.         0.78823529 0.75294118 0.69411765\n",
            "  0.70588235 0.70980392 0.73333333 0.70196078 0.72156863 0.69411765\n",
            "  0.86666667 0.67843137 0.         0.88627451 0.72941176 0.8\n",
            "  0.11764706 0.         0.         0.        ]\n",
            " [0.         0.         0.         0.         0.37254902 0.71372549\n",
            "  0.76078431 0.34509804 0.         0.81568627 0.74901961 0.69411765\n",
            "  0.70588235 0.70588235 0.70980392 0.69411765 0.71372549 0.71372549\n",
            "  0.81568627 0.77254902 0.         0.75686275 0.75686275 0.80784314\n",
            "  0.18823529 0.         0.         0.        ]\n",
            " [0.         0.         0.         0.         0.36470588 0.71372549\n",
            "  0.77647059 0.1372549  0.         0.87843137 0.7372549  0.70588235\n",
            "  0.70588235 0.70196078 0.72156863 0.70588235 0.72156863 0.72941176\n",
            "  0.75294118 0.85490196 0.         0.60784314 0.77254902 0.80392157\n",
            "  0.24313725 0.         0.         0.        ]\n",
            " [0.         0.         0.         0.         0.34117647 0.71372549\n",
            "  0.76470588 0.00392157 0.         0.90980392 0.72156863 0.70980392\n",
            "  0.70588235 0.70196078 0.72156863 0.70196078 0.70588235 0.71372549\n",
            "  0.72941176 0.9372549  0.         0.42352941 0.77647059 0.80392157\n",
            "  0.29019608 0.         0.         0.        ]\n",
            " [0.         0.         0.         0.         0.31372549 0.72156863\n",
            "  0.87843137 0.         0.         0.93333333 0.70588235 0.70588235\n",
            "  0.70588235 0.70588235 0.70980392 0.69803922 0.70588235 0.7254902\n",
            "  0.72156863 0.98823529 0.         0.12941176 0.78823529 0.80392157\n",
            "  0.3254902  0.         0.         0.        ]\n",
            " [0.         0.         0.         0.         0.29411765 0.7254902\n",
            "  0.8745098  0.         0.01176471 0.9372549  0.70196078 0.70196078\n",
            "  0.70588235 0.70980392 0.7254902  0.70980392 0.71372549 0.73333333\n",
            "  0.71372549 1.         0.0627451  0.         0.92941176 0.80392157\n",
            "  0.35294118 0.         0.         0.        ]\n",
            " [0.         0.         0.         0.         0.2627451  0.7372549\n",
            "  0.8        0.         0.05490196 0.91764706 0.70196078 0.70196078\n",
            "  0.70196078 0.70588235 0.73333333 0.70980392 0.70196078 0.69803922\n",
            "  0.70980392 0.97647059 0.18039216 0.         0.88235294 0.82352941\n",
            "  0.36862745 0.         0.         0.        ]\n",
            " [0.         0.         0.         0.         0.25882353 0.74509804\n",
            "  0.62745098 0.         0.01960784 0.90588235 0.70588235 0.70588235\n",
            "  0.69803922 0.69411765 0.70588235 0.70196078 0.70980392 0.70588235\n",
            "  0.70588235 0.82745098 0.19607843 0.         0.68627451 0.8\n",
            "  0.44705882 0.         0.         0.        ]\n",
            " [0.         0.         0.         0.         0.40392157 0.82745098\n",
            "  0.65490196 0.         0.         0.74509804 0.70980392 0.69411765\n",
            "  0.67843137 0.67843137 0.67843137 0.6745098  0.68235294 0.69411765\n",
            "  0.70196078 0.82745098 0.09019608 0.         0.65098039 0.8627451\n",
            "  0.50588235 0.         0.         0.        ]\n",
            " [0.         0.         0.         0.         0.24313725 0.59215686\n",
            "  0.55686275 0.         0.         0.70196078 0.76078431 0.7372549\n",
            "  0.85882353 0.83921569 0.81568627 0.81568627 0.82352941 0.7372549\n",
            "  0.78823529 0.64705882 0.         0.         0.4745098  0.57254902\n",
            "  0.34901961 0.         0.         0.        ]\n",
            " [0.         0.         0.         0.         0.         0.\n",
            "  0.         0.         0.         0.         0.11764706 0.21568627\n",
            "  0.31764706 0.37647059 0.35294118 0.39215686 0.34901961 0.29803922\n",
            "  0.16078431 0.         0.         0.         0.         0.\n",
            "  0.         0.         0.         0.        ]]\n"
          ]
        },
        {
          "output_type": "display_data",
          "data": {
            "image/png": "[encoded data removed]",
            "text/plain": [
              "<Figure size 432x288 with 1 Axes>"
            ]
          },
          "metadata": {
            "needs_background": "light"
          }
        }
      ]
    },
    {
      "cell_type": "markdown",
      "source": [
        "## Shallow Neural Network"
      ],
      "metadata": {
        "id": "B3nz46LswCNV"
      }
    },
    {
      "cell_type": "code",
      "source": [
        "# Define the model\n",
        "model = tf.keras.models.Sequential([\n",
        "  tf.keras.layers.Flatten(),\n",
        "  tf.keras.layers.Dense(128, activation=tf.nn.relu),\n",
        "  tf.keras.layers.Dense(10, activation=tf.nn.softmax)\n",
        "])\n",
        "\n",
        "# Setup training parameters\n",
        "model.compile(optimizer='adam', loss='sparse_categorical_crossentropy', metrics=['accuracy'])\n",
        "\n",
        "# Train the model\n",
        "print(f'\\nMODEL TRAINING:')\n",
        "model.fit(training_images, training_labels, epochs=5)\n",
        "\n",
        "# Evaluate on the test set\n",
        "print(f'\\nMODEL EVALUATION:')\n",
        "test_loss = model.evaluate(test_images, test_labels)"
      ],
      "metadata": {
        "colab": {
          "base_uri": "https://localhost:8080/"
        },
        "id": "qdPFLeVVvqje",
        "outputId": "38176807-d415-423d-9390-ce435f21f42a"
      },
      "execution_count": 3,
      "outputs": [
        {
          "output_type": "stream",
          "name": "stdout",
          "text": [
            "\n",
            "MODEL TRAINING:\n",
            "Epoch 1/5\n",
            "1875/1875 [==============================] - 8s 4ms/step - loss: 0.4985 - accuracy: 0.8246\n",
            "Epoch 2/5\n",
            "1875/1875 [==============================] - 4s 2ms/step - loss: 0.3756 - accuracy: 0.8643\n",
            "Epoch 3/5\n",
            "1875/1875 [==============================] - 4s 2ms/step - loss: 0.3363 - accuracy: 0.8766\n",
            "Epoch 4/5\n",
            "1875/1875 [==============================] - 4s 2ms/step - loss: 0.3127 - accuracy: 0.8840\n",
            "Epoch 5/5\n",
            "1875/1875 [==============================] - 4s 2ms/step - loss: 0.2938 - accuracy: 0.8921\n",
            "\n",
            "MODEL EVALUATION:\n",
            "313/313 [==============================] - 1s 1ms/step - loss: 0.3555 - accuracy: 0.8746\n"
          ]
        }
      ]
    },
    {
      "cell_type": "markdown",
      "source": [
        "## Convolutional Neural Network"
      ],
      "metadata": {
        "id": "nmgMzDMpwHcM"
      }
    },
    {
      "cell_type": "code",
      "source": [
        "# Define the model\n",
        "model = tf.keras.models.Sequential([\n",
        "                                                         \n",
        "  # Add convolutions and max pooling\n",
        "  tf.keras.layers.Conv2D(32, (3,3), activation='relu', input_shape=(28, 28, 1)),\n",
        "  tf.keras.layers.MaxPooling2D(2, 2),\n",
        "  tf.keras.layers.Conv2D(32, (3,3), activation='relu'),\n",
        "  tf.keras.layers.MaxPooling2D(2,2),\n",
        "\n",
        "  # Add the same layers as before\n",
        "  tf.keras.layers.Flatten(),\n",
        "  tf.keras.layers.Dense(128, activation='relu'),\n",
        "  tf.keras.layers.Dense(10, activation='softmax')\n",
        "])\n",
        "\n",
        "# Print the model summary\n",
        "model.summary()\n",
        "\n",
        "# Use same settings\n",
        "model.compile(optimizer='adam', loss='sparse_categorical_crossentropy', metrics=['accuracy'])\n",
        "\n",
        "# Train the model\n",
        "print(f'\\nMODEL TRAINING:')\n",
        "model.fit(training_images, training_labels, epochs=5)\n",
        "\n",
        "# Evaluate on the test set\n",
        "print(f'\\nMODEL EVALUATION:')\n",
        "test_loss = model.evaluate(test_images, test_labels)\n"
      ],
      "metadata": {
        "colab": {
          "base_uri": "https://localhost:8080/"
        },
        "id": "Xs5aq--vvuNt",
        "outputId": "078a7a22-91d5-4a54-d438-794a078f8645"
      },
      "execution_count": 4,
      "outputs": [
        {
          "output_type": "stream",
          "name": "stdout",
          "text": [
            "Model: \"sequential_1\"\n",
            "_________________________________________________________________\n",
            " Layer (type)                Output Shape              Param #   \n",
            "=================================================================\n",
            " conv2d (Conv2D)             (None, 26, 26, 32)        320       \n",
            "                                                                 \n",
            " max_pooling2d (MaxPooling2D  (None, 13, 13, 32)       0         \n",
            " )                                                               \n",
            "                                                                 \n",
            " conv2d_1 (Conv2D)           (None, 11, 11, 32)        9248      \n",
            "                                                                 \n",
            " max_pooling2d_1 (MaxPooling  (None, 5, 5, 32)         0         \n",
            " 2D)                                                             \n",
            "                                                                 \n",
            " flatten_1 (Flatten)         (None, 800)               0         \n",
            "                                                                 \n",
            " dense_2 (Dense)             (None, 128)               102528    \n",
            "                                                                 \n",
            " dense_3 (Dense)             (None, 10)                1290      \n",
            "                                                                 \n",
            "=================================================================\n",
            "Total params: 113,386\n",
            "Trainable params: 113,386\n",
            "Non-trainable params: 0\n",
            "_________________________________________________________________\n",
            "\n",
            "MODEL TRAINING:\n",
            "Epoch 1/5\n",
            "1875/1875 [==============================] - 44s 23ms/step - loss: 0.4777 - accuracy: 0.8251\n",
            "Epoch 2/5\n",
            "1875/1875 [==============================] - 43s 23ms/step - loss: 0.3248 - accuracy: 0.8816\n",
            "Epoch 3/5\n",
            "1875/1875 [==============================] - 42s 22ms/step - loss: 0.2762 - accuracy: 0.8971\n",
            "Epoch 4/5\n",
            "1875/1875 [==============================] - 42s 22ms/step - loss: 0.2447 - accuracy: 0.9087\n",
            "Epoch 5/5\n",
            "1875/1875 [==============================] - 42s 22ms/step - loss: 0.2204 - accuracy: 0.9187\n",
            "\n",
            "MODEL EVALUATION:\n",
            "313/313 [==============================] - 2s 7ms/step - loss: 0.2710 - accuracy: 0.9009\n"
          ]
        }
      ]
    },
    {
      "cell_type": "markdown",
      "source": [
        "## Visualizing the Convolutions and Pooling"
      ],
      "metadata": {
        "id": "KkmejhbwwOWa"
      }
    },
    {
      "cell_type": "code",
      "source": [
        "print(test_labels[:50])"
      ],
      "metadata": {
        "colab": {
          "base_uri": "https://localhost:8080/"
        },
        "id": "SGwjySvOwNZX",
        "outputId": "8455f659-ef7b-48be-bcb5-bdb621797ab2"
      },
      "execution_count": null,
      "outputs": [
        {
          "output_type": "stream",
          "name": "stdout",
          "text": [
            "[9 2 1 1 6 1 4 6 5 7 4 5 7 3 4 1 2 4 8 0 2 5 7 9 1 4 6 0 9 3 8 8 3 3 8 0 7\n",
            " 5 7 9 6 1 3 7 6 7 2 1 2 2]\n"
          ]
        }
      ]
    },
    {
      "cell_type": "code",
      "source": [
        "import matplotlib.pyplot as plt\n",
        "from tensorflow.keras import models\n",
        "\n",
        "f, axarr = plt.subplots(3,4)\n",
        "\n",
        "FIRST_IMAGE=0\n",
        "SECOND_IMAGE=23\n",
        "THIRD_IMAGE=28\n",
        "CONVOLUTION_NUMBER = 1\n",
        "\n",
        "layer_outputs = [layer.output for layer in model.layers]\n",
        "activation_model = tf.keras.models.Model(inputs = model.input, outputs = layer_outputs)\n",
        "\n",
        "for x in range(0,4):  \n",
        "  f1 = activation_model.predict(test_images[FIRST_IMAGE].reshape(1, 28, 28, 1))[x]\n",
        "  axarr[0,x].imshow(f1[0, : , :, CONVOLUTION_NUMBER], cmap='inferno')\n",
        "  axarr[0,x].grid(False)\n",
        "  \n",
        "  f2 = activation_model.predict(test_images[SECOND_IMAGE].reshape(1, 28, 28, 1))[x]\n",
        "  axarr[1,x].imshow(f2[0, : , :, CONVOLUTION_NUMBER], cmap='inferno')\n",
        "  axarr[1,x].grid(False)\n",
        "  \n",
        "  f3 = activation_model.predict(test_images[THIRD_IMAGE].reshape(1, 28, 28, 1))[x]\n",
        "  axarr[2,x].imshow(f3[0, : , :, CONVOLUTION_NUMBER], cmap='inferno')\n",
        "  axarr[2,x].grid(False)"
      ],
      "metadata": {
        "colab": {
          "base_uri": "https://localhost:8080/",
          "height": 268
        },
        "id": "JcsL0lzowRos",
        "outputId": "5fb2221d-9be7-45d2-d248-687efd4f7403"
      },
      "execution_count": null,
      "outputs": [
        {
          "output_type": "display_data",
          "data": {
            "image/png": "[encoded data removed]",
            "text/plain": [
              "<Figure size 432x288 with 12 Axes>"
            ]
          },
          "metadata": {
            "needs_background": "light"
          }
        }
      ]
    },
    {
      "cell_type": "markdown",
      "source": [
        "## Trying with Different Parameters"
      ],
      "metadata": {
        "id": "FWNiihKa7Vni"
      }
    },
    {
      "cell_type": "markdown",
      "source": [
        "## Model-1\n",
        "Adding a Conv-Layer"
      ],
      "metadata": {
        "id": "xjKME1RM9qBh"
      }
    },
    {
      "cell_type": "code",
      "source": [
        "# Define the model\n",
        "model = tf.keras.models.Sequential([\n",
        "                                                         \n",
        "  # Add convolutions and max pooling\n",
        "  tf.keras.layers.Conv2D(32, (3,3), activation='relu', input_shape=(28, 28, 1)),\n",
        "  tf.keras.layers.MaxPooling2D(2, 2),\n",
        "  tf.keras.layers.Conv2D(64, (3,3), activation='relu', input_shape=(28, 28, 1)),\n",
        "  tf.keras.layers.MaxPooling2D(2, 2),\n",
        "  tf.keras.layers.Conv2D(128, (3,3), activation='relu'),\n",
        "  tf.keras.layers.MaxPooling2D(2,2),\n",
        "  \n",
        "\n",
        "  # Add the same layers as before\n",
        "  tf.keras.layers.Flatten(),\n",
        "  tf.keras.layers.Dense(128, activation='relu'),\n",
        "  tf.keras.layers.Dense(10, activation='softmax')\n",
        "])\n",
        "\n",
        "# Print the model summary\n",
        "model.summary()\n",
        "\n",
        "# Use same settings\n",
        "model.compile(optimizer='adam', loss='sparse_categorical_crossentropy', metrics=['accuracy'])\n",
        "\n",
        "# Train the model\n",
        "print(f'\\nMODEL TRAINING:')\n",
        "model.fit(training_images, training_labels, epochs=5)\n",
        "\n",
        "# Evaluate on the test set\n",
        "print(f'\\nMODEL EVALUATION:')\n",
        "test_loss = model.evaluate(test_images, test_labels)\n"
      ],
      "metadata": {
        "colab": {
          "base_uri": "https://localhost:8080/"
        },
        "id": "BUaMSgvc0qNw",
        "outputId": "7e25249c-2f03-4259-dbc0-9d084e2bddf8"
      },
      "execution_count": 9,
      "outputs": [
        {
          "output_type": "stream",
          "name": "stdout",
          "text": [
            "Model: \"sequential_4\"\n",
            "_________________________________________________________________\n",
            " Layer (type)                Output Shape              Param #   \n",
            "=================================================================\n",
            " conv2d_6 (Conv2D)           (None, 26, 26, 32)        320       \n",
            "                                                                 \n",
            " max_pooling2d_6 (MaxPooling  (None, 13, 13, 32)       0         \n",
            " 2D)                                                             \n",
            "                                                                 \n",
            " conv2d_7 (Conv2D)           (None, 11, 11, 64)        18496     \n",
            "                                                                 \n",
            " max_pooling2d_7 (MaxPooling  (None, 5, 5, 64)         0         \n",
            " 2D)                                                             \n",
            "                                                                 \n",
            " conv2d_8 (Conv2D)           (None, 3, 3, 128)         73856     \n",
            "                                                                 \n",
            " max_pooling2d_8 (MaxPooling  (None, 1, 1, 128)        0         \n",
            " 2D)                                                             \n",
            "                                                                 \n",
            " flatten_4 (Flatten)         (None, 128)               0         \n",
            "                                                                 \n",
            " dense_8 (Dense)             (None, 128)               16512     \n",
            "                                                                 \n",
            " dense_9 (Dense)             (None, 10)                1290      \n",
            "                                                                 \n",
            "=================================================================\n",
            "Total params: 110,474\n",
            "Trainable params: 110,474\n",
            "Non-trainable params: 0\n",
            "_________________________________________________________________\n",
            "\n",
            "MODEL TRAINING:\n",
            "Epoch 1/5\n",
            "1875/1875 [==============================] - 56s 30ms/step - loss: 0.5583 - accuracy: 0.7940\n",
            "Epoch 2/5\n",
            "1875/1875 [==============================] - 57s 30ms/step - loss: 0.3669 - accuracy: 0.8644\n",
            "Epoch 3/5\n",
            "1875/1875 [==============================] - 56s 30ms/step - loss: 0.3142 - accuracy: 0.8832\n",
            "Epoch 4/5\n",
            "1875/1875 [==============================] - 56s 30ms/step - loss: 0.2774 - accuracy: 0.8970\n",
            "Epoch 5/5\n",
            "1875/1875 [==============================] - 56s 30ms/step - loss: 0.2497 - accuracy: 0.9069\n",
            "\n",
            "MODEL EVALUATION:\n",
            "313/313 [==============================] - 3s 9ms/step - loss: 0.3123 - accuracy: 0.8849\n"
          ]
        }
      ]
    },
    {
      "cell_type": "markdown",
      "source": [
        "## Model-2\n",
        "Increasing the number of Epochs."
      ],
      "metadata": {
        "id": "x8ALQuew9fVm"
      }
    },
    {
      "cell_type": "code",
      "source": [
        "# Define the model\n",
        "model = tf.keras.models.Sequential([\n",
        "                                                         \n",
        "  # Add convolutions and max pooling\n",
        "  tf.keras.layers.Conv2D(32, (3,3), activation='relu', input_shape=(28, 28, 1)),\n",
        "  tf.keras.layers.MaxPooling2D(2, 2),\n",
        "  tf.keras.layers.Conv2D(64, (3,3), activation='relu', input_shape=(28, 28, 1)),\n",
        "  tf.keras.layers.MaxPooling2D(2, 2),\n",
        "  \n",
        "\n",
        "  # Add the same layers as before\n",
        "  tf.keras.layers.Flatten(),\n",
        "  tf.keras.layers.Dense(128, activation='relu'),\n",
        "  tf.keras.layers.Dense(10, activation='softmax')\n",
        "])\n",
        "\n",
        "# Print the model summary\n",
        "model.summary()\n",
        "\n",
        "# Use same settings\n",
        "model.compile(optimizer='adam', loss='sparse_categorical_crossentropy', metrics=['accuracy'])\n",
        "\n",
        "# Train the model\n",
        "print(f'\\nMODEL TRAINING:')\n",
        "model.fit(training_images, training_labels, epochs=20)\n",
        "\n",
        "# Evaluate on the test set\n",
        "print(f'\\nMODEL EVALUATION:')\n",
        "test_loss = model.evaluate(test_images, test_labels)\n"
      ],
      "metadata": {
        "colab": {
          "base_uri": "https://localhost:8080/"
        },
        "id": "rsYTizPw0rI-",
        "outputId": "a0ed2f20-67a0-46d9-98e0-09642f5198ca"
      },
      "execution_count": 10,
      "outputs": [
        {
          "output_type": "stream",
          "name": "stdout",
          "text": [
            "Model: \"sequential_5\"\n",
            "_________________________________________________________________\n",
            " Layer (type)                Output Shape              Param #   \n",
            "=================================================================\n",
            " conv2d_9 (Conv2D)           (None, 26, 26, 32)        320       \n",
            "                                                                 \n",
            " max_pooling2d_9 (MaxPooling  (None, 13, 13, 32)       0         \n",
            " 2D)                                                             \n",
            "                                                                 \n",
            " conv2d_10 (Conv2D)          (None, 11, 11, 64)        18496     \n",
            "                                                                 \n",
            " max_pooling2d_10 (MaxPoolin  (None, 5, 5, 64)         0         \n",
            " g2D)                                                            \n",
            "                                                                 \n",
            " flatten_5 (Flatten)         (None, 1600)              0         \n",
            "                                                                 \n",
            " dense_10 (Dense)            (None, 128)               204928    \n",
            "                                                                 \n",
            " dense_11 (Dense)            (None, 10)                1290      \n",
            "                                                                 \n",
            "=================================================================\n",
            "Total params: 225,034\n",
            "Trainable params: 225,034\n",
            "Non-trainable params: 0\n",
            "_________________________________________________________________\n",
            "\n",
            "MODEL TRAINING:\n",
            "Epoch 1/20\n",
            "1875/1875 [==============================] - 53s 28ms/step - loss: 0.4481 - accuracy: 0.8386\n",
            "Epoch 2/20\n",
            "1875/1875 [==============================] - 52s 28ms/step - loss: 0.2990 - accuracy: 0.8901\n",
            "Epoch 3/20\n",
            "1875/1875 [==============================] - 52s 28ms/step - loss: 0.2544 - accuracy: 0.9053\n",
            "Epoch 4/20\n",
            "1875/1875 [==============================] - 52s 27ms/step - loss: 0.2220 - accuracy: 0.9178\n",
            "Epoch 5/20\n",
            "1875/1875 [==============================] - 52s 27ms/step - loss: 0.1952 - accuracy: 0.9276\n",
            "Epoch 6/20\n",
            "1875/1875 [==============================] - 51s 27ms/step - loss: 0.1727 - accuracy: 0.9358\n",
            "Epoch 7/20\n",
            "1875/1875 [==============================] - 52s 27ms/step - loss: 0.1519 - accuracy: 0.9429\n",
            "Epoch 8/20\n",
            "1875/1875 [==============================] - 51s 27ms/step - loss: 0.1347 - accuracy: 0.9498\n",
            "Epoch 9/20\n",
            "1875/1875 [==============================] - 52s 28ms/step - loss: 0.1175 - accuracy: 0.9563\n",
            "Epoch 10/20\n",
            "1875/1875 [==============================] - 52s 28ms/step - loss: 0.1025 - accuracy: 0.9610\n",
            "Epoch 11/20\n",
            "1875/1875 [==============================] - 54s 29ms/step - loss: 0.0915 - accuracy: 0.9659\n",
            "Epoch 12/20\n",
            "1875/1875 [==============================] - 54s 29ms/step - loss: 0.0811 - accuracy: 0.9691\n",
            "Epoch 13/20\n",
            "1875/1875 [==============================] - 54s 29ms/step - loss: 0.0738 - accuracy: 0.9726\n",
            "Epoch 14/20\n",
            "1875/1875 [==============================] - 51s 27ms/step - loss: 0.0621 - accuracy: 0.9767\n",
            "Epoch 15/20\n",
            "1875/1875 [==============================] - 52s 28ms/step - loss: 0.0584 - accuracy: 0.9780\n",
            "Epoch 16/20\n",
            "1875/1875 [==============================] - 52s 28ms/step - loss: 0.0499 - accuracy: 0.9816\n",
            "Epoch 17/20\n",
            "1875/1875 [==============================] - 52s 28ms/step - loss: 0.0498 - accuracy: 0.9809\n",
            "Epoch 18/20\n",
            "1875/1875 [==============================] - 51s 27ms/step - loss: 0.0436 - accuracy: 0.9842\n",
            "Epoch 19/20\n",
            "1875/1875 [==============================] - 52s 28ms/step - loss: 0.0399 - accuracy: 0.9852\n",
            "Epoch 20/20\n",
            "1875/1875 [==============================] - 51s 27ms/step - loss: 0.0388 - accuracy: 0.9860\n",
            "\n",
            "MODEL EVALUATION:\n",
            "313/313 [==============================] - 3s 8ms/step - loss: 0.5283 - accuracy: 0.9100\n"
          ]
        }
      ]
    },
    {
      "cell_type": "markdown",
      "source": [
        "We can observe that if we increase the no. of conv layers or no. of epochs it is running, we are overfitting the model.\n"
      ],
      "metadata": {
        "id": "UrXVhxEfzL3-"
      }
    }
  ]
}